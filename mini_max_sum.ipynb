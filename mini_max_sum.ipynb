{
  "nbformat": 4,
  "nbformat_minor": 0,
  "metadata": {
    "colab": {
      "provenance": [],
      "authorship_tag": "ABX9TyNEd2WCxPtj8SSvPcqx1edi",
      "include_colab_link": true
    },
    "kernelspec": {
      "name": "python3",
      "display_name": "Python 3"
    },
    "language_info": {
      "name": "python"
    }
  },
  "cells": [
    {
      "cell_type": "markdown",
      "metadata": {
        "id": "view-in-github",
        "colab_type": "text"
      },
      "source": [
        "<a href=\"https://colab.research.google.com/github/cecoii1987/Challenge-of-list-/blob/main/mini_max_sum.ipynb\" target=\"_parent\"><img src=\"https://colab.research.google.com/assets/colab-badge.svg\" alt=\"Open In Colab\"/></a>"
      ]
    },
    {
      "cell_type": "markdown",
      "source": [
        "Day 1 Interview Challenge\n",
        "Given five positive integers, find the minimum and maximum values that can be calculated by summing exactly four of the five integers. Then print the respective minimum and maximum values as a single line of two space-separated long integers.\n",
        "Print\n",
        "\n",
        "Print two space-separated integers on one line: the minimum sum and the maximum sum of 4 of 5 elements."
      ],
      "metadata": {
        "id": "XA-plezcumXa"
      }
    },
    {
      "cell_type": "code",
      "execution_count": 4,
      "metadata": {
        "id": "p4SqvEYiulix"
      },
      "outputs": [],
      "source": [
        "import math\n",
        "import os\n",
        "import random\n",
        "import re\n",
        "import sys"
      ]
    },
    {
      "cell_type": "code",
      "source": [
        "def miniMaxSum(arr):\n",
        "    # Write your code here\n",
        "    arr.sort()\n",
        "    sum = 0\n",
        "    for i in arr:\n",
        "      sum += i\n",
        "    print(sum - arr[4], sum - arr[0])\n",
        "\n",
        "\n",
        "if __name__ == '__main__':\n",
        "\n",
        "    arr = list(map(int, input().rstrip().split()))\n",
        "\n",
        "    miniMaxSum(arr)\n"
      ],
      "metadata": {
        "colab": {
          "base_uri": "https://localhost:8080/"
        },
        "id": "4Oem3ZbFu7Vq",
        "outputId": "8cdc0a36-c3d8-45f9-9ad6-d4a8e2c128cd"
      },
      "execution_count": 9,
      "outputs": [
        {
          "output_type": "stream",
          "name": "stdout",
          "text": [
            "3 1 7 5 9\n",
            "16 24\n"
          ]
        }
      ]
    },
    {
      "cell_type": "markdown",
      "source": [
        "So first of all what we did is to sort the array in order to order the integers into ascending way from smaller to bigger. Then we created a variable called sum we initiated at 0. We used a for loop for i in array.\n",
        "Then we printed sum - arr[4] which is the max value in the array and is the 5th integer together with sum - arr[0] which is the first value in the array and is the minimal value."
      ],
      "metadata": {
        "id": "24LuH1j2aavJ"
      }
    }
  ]
}