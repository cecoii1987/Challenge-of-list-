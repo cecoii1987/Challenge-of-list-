{
  "nbformat": 4,
  "nbformat_minor": 0,
  "metadata": {
    "colab": {
      "provenance": [],
      "authorship_tag": "ABX9TyMTiOfP0938zQXkiSxyaQK+",
      "include_colab_link": true
    },
    "kernelspec": {
      "name": "python3",
      "display_name": "Python 3"
    },
    "language_info": {
      "name": "python"
    }
  },
  "cells": [
    {
      "cell_type": "markdown",
      "metadata": {
        "id": "view-in-github",
        "colab_type": "text"
      },
      "source": [
        "<a href=\"https://colab.research.google.com/github/cecoii1987/Challenge-of-list-/blob/main/BMI_calculator.ipynb\" target=\"_parent\"><img src=\"https://colab.research.google.com/assets/colab-badge.svg\" alt=\"Open In Colab\"/></a>"
      ]
    },
    {
      "cell_type": "markdown",
      "source": [
        "Create a BMI calculator"
      ],
      "metadata": {
        "id": "bKxPuFako1DR"
      }
    },
    {
      "cell_type": "code",
      "execution_count": 2,
      "metadata": {
        "colab": {
          "base_uri": "https://localhost:8080/"
        },
        "id": "kYY5JoA-lPS8",
        "outputId": "d3143572-da48-4530-9a3d-a85d38deb9d0"
      },
      "outputs": [
        {
          "output_type": "stream",
          "name": "stdout",
          "text": [
            "Enter your wight in kg: 52\n",
            "Enter your height in meters: 1.65\n",
            "Healthy weight\n"
          ]
        }
      ],
      "source": [
        "weight = float(input('Enter your wight in kg: '))\n",
        "height = float(input('Enter your height in meters: '))\n",
        "BMI = weight / height**2\n",
        "if BMI < 18.5:\n",
        "  print('Under weight')\n",
        "elif BMI < 25:\n",
        "  print('Healthy weight')\n",
        "else:\n",
        "  print('Over weight')\n"
      ]
    }
  ]
}