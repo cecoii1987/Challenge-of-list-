{
  "nbformat": 4,
  "nbformat_minor": 0,
  "metadata": {
    "colab": {
      "provenance": [],
      "authorship_tag": "ABX9TyNPM/sqkXuS/KEgZ36ZjZd3",
      "include_colab_link": true
    },
    "kernelspec": {
      "name": "python3",
      "display_name": "Python 3"
    },
    "language_info": {
      "name": "python"
    }
  },
  "cells": [
    {
      "cell_type": "markdown",
      "metadata": {
        "id": "view-in-github",
        "colab_type": "text"
      },
      "source": [
        "<a href=\"https://colab.research.google.com/github/cecoii1987/Challenge-of-list-/blob/main/Copy_of_Challenge_input_string.ipynb\" target=\"_parent\"><img src=\"https://colab.research.google.com/assets/colab-badge.svg\" alt=\"Open In Colab\"/></a>"
      ]
    },
    {
      "cell_type": "code",
      "execution_count": null,
      "metadata": {
        "colab": {
          "base_uri": "https://localhost:8080/"
        },
        "id": "IhBImHk0gBIi",
        "outputId": "578db94b-156a-4ea4-ad4d-aea06ecbd5b1"
      },
      "outputs": [
        {
          "output_type": "stream",
          "name": "stdout",
          "text": [
            "Welcome to 30 Days of Code!\n",
            "Hello, World.\n",
            "Welcome to 30 Days of Code!\n"
          ]
        }
      ],
      "source": [
        "inputString = input() # get a line of input from stdin and save it to our var\n",
        "\n",
        "# Your first line of output goes here\n",
        "print('Hello, World.')\n",
        "\n",
        "# Write the second line of output\n",
        "print('Welcome to 30 Days of Code!')"
      ]
    }
  ]
}