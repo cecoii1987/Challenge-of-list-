{
  "nbformat": 4,
  "nbformat_minor": 0,
  "metadata": {
    "colab": {
      "provenance": [],
      "authorship_tag": "ABX9TyON/xCEoBey8TB9RNcQ5tsk",
      "include_colab_link": true
    },
    "kernelspec": {
      "name": "python3",
      "display_name": "Python 3"
    },
    "language_info": {
      "name": "python"
    }
  },
  "cells": [
    {
      "cell_type": "markdown",
      "metadata": {
        "id": "view-in-github",
        "colab_type": "text"
      },
      "source": [
        "<a href=\"https://colab.research.google.com/github/cecoii1987/Challenge-of-list-/blob/main/Python_quiz.ipynb\" target=\"_parent\"><img src=\"https://colab.research.google.com/assets/colab-badge.svg\" alt=\"Open In Colab\"/></a>"
      ]
    },
    {
      "cell_type": "markdown",
      "source": [
        "Oython Quiz time: What would be the output of the following code?"
      ],
      "metadata": {
        "id": "rgjyVUdgUX8P"
      }
    },
    {
      "cell_type": "code",
      "execution_count": null,
      "metadata": {
        "colab": {
          "base_uri": "https://localhost:8080/"
        },
        "id": "DmxEiw9oUNEL",
        "outputId": "3e51dfcb-c797-4318-acf0-aead0dd0c1b0"
      },
      "outputs": [
        {
          "output_type": "stream",
          "name": "stdout",
          "text": [
            "<class 'float'>\n"
          ]
        }
      ],
      "source": [
        "a = 3.44\n",
        "b = 3\n",
        "result = a+b\n",
        "print(type(result))"
      ]
    },
    {
      "cell_type": "code",
      "source": [
        "x = 2\n",
        "y = 5\n",
        "if (not x % 2) and y % 2:\n",
        "  print(1)\n",
        "elif x == 2:\n",
        "  print(2)\n",
        "else:\n",
        "  print(3)"
      ],
      "metadata": {
        "colab": {
          "base_uri": "https://localhost:8080/"
        },
        "id": "-Dz_DgYPU67X",
        "outputId": "1d6c3c75-2f8d-4906-e27b-16d506eaa004"
      },
      "execution_count": null,
      "outputs": [
        {
          "output_type": "stream",
          "name": "stdout",
          "text": [
            "1\n"
          ]
        }
      ]
    },
    {
      "cell_type": "markdown",
      "source": [
        "Which of the following is a valid variable name in Python\n",
        "A. num-1\n",
        "B. 1num\n",
        "C. num1\n",
        "D. num_1\n",
        "Output is D"
      ],
      "metadata": {
        "id": "gRclmobuVql_"
      }
    }
  ]
}