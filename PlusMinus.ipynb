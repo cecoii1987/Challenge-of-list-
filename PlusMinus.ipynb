{
  "nbformat": 4,
  "nbformat_minor": 0,
  "metadata": {
    "colab": {
      "provenance": [],
      "authorship_tag": "ABX9TyNRIUtxAWq1eWL/FjoHgT/R",
      "include_colab_link": true
    },
    "kernelspec": {
      "name": "python3",
      "display_name": "Python 3"
    },
    "language_info": {
      "name": "python"
    }
  },
  "cells": [
    {
      "cell_type": "markdown",
      "metadata": {
        "id": "view-in-github",
        "colab_type": "text"
      },
      "source": [
        "<a href=\"https://colab.research.google.com/github/cecoii1987/Challenge-of-list-/blob/main/PlusMinus.ipynb\" target=\"_parent\"><img src=\"https://colab.research.google.com/assets/colab-badge.svg\" alt=\"Open In Colab\"/></a>"
      ]
    },
    {
      "cell_type": "markdown",
      "source": [
        "Interview kit Day 1 challenge- Plus Minus\n",
        "Given an array of integers, calculate the ratios of its elements that are positive, negative, and zero. Print the decimal value of each fraction on a new line with 6 places after the decimal.\n",
        "Note: This challenge introduces precision problems. The test cases are scaled to six decimal places, though answers with absolute error of up to  10 elevated to -4 are acceptable."
      ],
      "metadata": {
        "id": "ngLdTsR_6HWI"
      }
    },
    {
      "cell_type": "code",
      "source": [
        "import math\n",
        "import os\n",
        "import random\n",
        "import re\n",
        "import sys"
      ],
      "metadata": {
        "id": "aYat8gBb73af"
      },
      "execution_count": 1,
      "outputs": []
    },
    {
      "cell_type": "code",
      "execution_count": 2,
      "metadata": {
        "colab": {
          "base_uri": "https://localhost:8080/"
        },
        "id": "9Iir3Rto6GRu",
        "outputId": "08e45560-41a2-42bb-948d-64096a089ab6"
      },
      "outputs": [
        {
          "output_type": "stream",
          "name": "stdout",
          "text": [
            "3\n",
            "5\n",
            "1.0\n",
            "0.0\n",
            "0.0\n"
          ]
        }
      ],
      "source": [
        "def plusMinus(arr):\n",
        "    # Write your code here\n",
        "    # First of all we will get the size\n",
        "    size = len(arr)\n",
        "    #Then we define the varibles containers\n",
        "    pos = 0\n",
        "    neg = 0\n",
        "    zero = 0\n",
        "    # We will iterate through each item in the array\n",
        "    for i in arr:\n",
        "      if i < 0:\n",
        "        neg += 1\n",
        "      elif i > 0:\n",
        "        pos += 1\n",
        "      elif i == 0:\n",
        "        zero += 1\n",
        "    print(pos/size)\n",
        "    print(neg/size)\n",
        "    print(zero/size)\n",
        "\n",
        "if __name__ == '__main__':\n",
        "    n = int(input().strip())\n",
        "\n",
        "    arr = list(map(int, input().rstrip().split()))\n",
        "\n",
        "    plusMinus(arr)"
      ]
    }
  ]
}