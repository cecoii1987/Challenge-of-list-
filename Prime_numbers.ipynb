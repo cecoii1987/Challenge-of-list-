{
  "nbformat": 4,
  "nbformat_minor": 0,
  "metadata": {
    "colab": {
      "provenance": [],
      "authorship_tag": "ABX9TyP0I3/hjcb2GejaW4wFvVW+",
      "include_colab_link": true
    },
    "kernelspec": {
      "name": "python3",
      "display_name": "Python 3"
    },
    "language_info": {
      "name": "python"
    }
  },
  "cells": [
    {
      "cell_type": "markdown",
      "metadata": {
        "id": "view-in-github",
        "colab_type": "text"
      },
      "source": [
        "<a href=\"https://colab.research.google.com/github/cecoii1987/Challenge-of-list-/blob/main/Prime_numbers.ipynb\" target=\"_parent\"><img src=\"https://colab.research.google.com/assets/colab-badge.svg\" alt=\"Open In Colab\"/></a>"
      ]
    },
    {
      "cell_type": "markdown",
      "source": [
        "Tech interview 2:\n",
        "Python program to display all prime numbers within an interval"
      ],
      "metadata": {
        "id": "Gvs_y3ajvfyf"
      }
    },
    {
      "cell_type": "code",
      "execution_count": null,
      "metadata": {
        "colab": {
          "base_uri": "https://localhost:8080/"
        },
        "id": "axTsSTpZveZM",
        "outputId": "f6121e83-6041-4d45-da95-738ea22f8f94"
      },
      "outputs": [
        {
          "output_type": "stream",
          "name": "stdout",
          "text": [
            "Prime numbers between 100 and 120 are\n",
            "101\n",
            "103\n",
            "107\n",
            "109\n",
            "113\n"
          ]
        }
      ],
      "source": [
        "lower = 100\n",
        "upper = 120\n",
        "print('Prime numbers between', lower, 'and', upper, 'are')\n",
        "for num in range(lower, upper+1):\n",
        "    # all prime numbers are greater then 1\n",
        "    if num > 1:\n",
        "      for i in range(2, num):\n",
        "        if(num % i) == 0:\n",
        "          break\n",
        "      else:\n",
        "        print(num)"
      ]
    }
  ]
}