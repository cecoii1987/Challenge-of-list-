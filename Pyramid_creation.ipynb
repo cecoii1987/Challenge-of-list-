{
  "nbformat": 4,
  "nbformat_minor": 0,
  "metadata": {
    "colab": {
      "provenance": [],
      "authorship_tag": "ABX9TyOl61WlebE/tA2cukLidZKh",
      "include_colab_link": true
    },
    "kernelspec": {
      "name": "python3",
      "display_name": "Python 3"
    },
    "language_info": {
      "name": "python"
    }
  },
  "cells": [
    {
      "cell_type": "markdown",
      "metadata": {
        "id": "view-in-github",
        "colab_type": "text"
      },
      "source": [
        "<a href=\"https://colab.research.google.com/github/cecoii1987/Challenge-of-list-/blob/main/Pyramid_creation.ipynb\" target=\"_parent\"><img src=\"https://colab.research.google.com/assets/colab-badge.svg\" alt=\"Open In Colab\"/></a>"
      ]
    },
    {
      "cell_type": "markdown",
      "source": [
        "Cerate a Python program to print a full pyramid"
      ],
      "metadata": {
        "id": "UiOeAZrFXjuI"
      }
    },
    {
      "cell_type": "code",
      "execution_count": 2,
      "metadata": {
        "colab": {
          "base_uri": "https://localhost:8080/"
        },
        "id": "ZB9F6BS1XRWt",
        "outputId": "2e4cf559-0b07-49fe-b973-919146280b50"
      },
      "outputs": [
        {
          "output_type": "stream",
          "name": "stdout",
          "text": [
            "Enter number of rows: 5\n",
            "    *\n",
            "   ***\n",
            "  *****\n",
            " *******\n",
            "*********\n"
          ]
        }
      ],
      "source": [
        "rows = int(input('Enter number of rows: '))\n",
        "k = 0\n",
        "for i in range(1, rows+1):\n",
        "  for space in range (1, (rows-i)+1):\n",
        "    print(end = ' ')\n",
        "  while k != (2*i-1):\n",
        "    print('*', end = '')\n",
        "    k += 1\n",
        "  k = 0\n",
        "  print()"
      ]
    }
  ]
}